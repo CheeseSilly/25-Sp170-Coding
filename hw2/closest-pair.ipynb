{
 "cells": [
  {
   "cell_type": "markdown",
   "metadata": {},
   "source": [
    "# Divide and Conquer: Closest Pair\n",
    "\n",
    "Here, you will implement the closest pair algorithm that we've seen in class. Given a set of points, the closest pair algorithm finds a pair of points of minimum distance. In this assignment, we will break down this algorithm and apply the divide and conquer method to efficiently find a solution."
   ]
  },
  {
   "cell_type": "markdown",
   "metadata": {},
   "source": [
    "### If you're using Datahub:\n",
    "* Run the cell below **and restart the kernel if needed**\n",
    "\n",
    "### If you're running locally:\n",
    "You'll need to perform some extra setup.\n",
    "#### First-time setup\n",
    "* Install Anaconda following the instructions here: https://www.anaconda.com/products/distribution \n",
    "* Create a conda environment: `conda create -n cs170 python=3.8`\n",
    "* Activate the environment: `conda activate cs170`\n",
    "    * See for more details on creating conda environments https://conda.io/projects/conda/en/latest/user-guide/tasks/manage-environments.html\n",
    "* Install pip: `conda install pip`\n",
    "* Install jupyter: `conda install jupyter`\n",
    "\n",
    "#### Every time you want to work\n",
    "* Make sure you've activated the conda environment: `conda activate cs170`\n",
    "* Launch jupyter: `jupyter notebook` or `jupyter lab` \n",
    "* Run the cell below **and restart the kernel if needed**"
   ]
  },
  {
   "cell_type": "code",
   "execution_count": null,
   "metadata": {},
   "outputs": [],
   "source": [
    "# Install dependencies\n",
    "!pip install -r requirements.txt "
   ]
  },
  {
   "cell_type": "code",
   "execution_count": 1,
   "metadata": {},
   "outputs": [],
   "source": [
    "import otter\n",
    "\n",
    "assert (otter.__version__ >= \"4.4.1\"), \"Please reinstall the requirements and restart your kernel.\"\n",
    "\n",
    "grader = otter.Notebook(\"closest-pair.ipynb\")\n",
    "import numpy as np\n",
    "from time import time\n",
    "import tqdm\n",
    "import math\n",
    "import numpy.random as random\n",
    "\n",
    "rng_seed = 0"
   ]
  },
  {
   "cell_type": "markdown",
   "metadata": {},
   "source": [
    "### Q1: Distance\n",
    "Before we jump into creating the closest pair algorithm, we will first create a few helper functions that may be useful later.\n",
    "> **Task 1:** Write a function that computes the distance between two given points.\n",
    "\n",
    "_Points:_ 1"
   ]
  },
  {
   "cell_type": "code",
   "execution_count": 2,
   "metadata": {
    "tags": []
   },
   "outputs": [],
   "source": [
    "def distance(p1, p2):\n",
    "    \"\"\" Finds the distance between point p1 and point p2.\n",
    "\n",
    "    Args:\n",
    "        p1 (Tuple[int, int]): A point.\n",
    "        p2 (Tuple[int, int]): A point.\n",
    "\n",
    "    Returns:\n",
    "        double: The distance between point p1 and point p2.\n",
    "    \"\"\"\n",
    "    ans=(p1[0]-p2[0])**2+(p1[1]-p2[1])**2\n",
    "    return math.sqrt(ans)\n",
    "    ..."
   ]
  },
  {
   "cell_type": "code",
   "execution_count": 3,
   "metadata": {
    "deletable": false,
    "editable": false
   },
   "outputs": [
    {
     "name": "stderr",
     "output_type": "stream",
     "text": [
      "Testing correctness: 100%|██████████| 50/50 [00:00<00:00, 33125.13it/s]\n"
     ]
    },
    {
     "data": {
      "text/html": [
       "<p><strong><pre style='display: inline;'>q1</pre></strong> passed! ✨</p>"
      ],
      "text/plain": [
       "q1 results: All test cases passed!"
      ]
     },
     "execution_count": 3,
     "metadata": {},
     "output_type": "execute_result"
    }
   ],
   "source": [
    "grader.check(\"q1\")"
   ]
  },
  {
   "cell_type": "markdown",
   "metadata": {},
   "source": [
    "### Q2: Naive Closest Pair\n",
    "Now, let's write a closest pair algorithm that does not use the divide and conquer approach. For this question, your implementation should run in $O(n^2)$ time. You may use functions from previous questions.\n",
    "> **Task 2:** Write an algorithm that naively returns the closest pair of points.\n",
    "\n",
    "If there are multiple solutions, you may return any of them.\n",
    "\n",
    "_Points:_ 2"
   ]
  },
  {
   "cell_type": "code",
   "execution_count": null,
   "metadata": {
    "tags": []
   },
   "outputs": [],
   "source": [
    "def naive_closest_pair(s):\n",
    "    \"\"\"Implements the closest pair algorithm to find the pair of points of minimum distance from set s naively.\n",
    "\n",
    "    Args:\n",
    "        s ([List[Tuple[int, int]]]): The list of points.\n",
    "\n",
    "    Returns:\n",
    "        Tuple[Tuple[int, int], Tuple[int, int]]: A tuple of the closest pair of points.\n",
    "    \"\"\"\n",
    "    ..."
   ]
  },
  {
   "cell_type": "code",
   "execution_count": null,
   "metadata": {
    "deletable": false,
    "editable": false
   },
   "outputs": [],
   "source": [
    "grader.check(\"q2\")"
   ]
  },
  {
   "cell_type": "markdown",
   "metadata": {},
   "source": [
    "### Q3: Closest Pair\n",
    "Now, let's write an algorithm that uses the divide and conquer method. For this question, your implementation must run in $O(nlogn)$ time. You may use functions from previous questions.\n",
    "> **Task 3:** Write an algorithm that returns the closest pair of points using the divide and conquer method.\n",
    "\n",
    "If there are multiple solutions, you may return any of them.\n",
    "\n",
    "If you're stuck, we recommend referencing the slides from [Lecture 4](https://cs170.org/assets/lec/lec-4_blank.pdf)! To help with implementation, we have broken up the task into 4 parts. The first 3 parts (A, B, and C) will not be tested and will be worth 0 points. The final part (D) will be worth 6 points. If you would like, you can skip to Part D and write your own implementation!"
   ]
  },
  {
   "cell_type": "markdown",
   "metadata": {},
   "source": [
    "#### Part A\n",
    "The algorithm first divides the x-axis along the median. Use this part to find the median, assuming the points are sorted by x-coordinate.\n",
    "\n",
    "_Points:_ 0"
   ]
  },
  {
   "cell_type": "code",
   "execution_count": null,
   "metadata": {
    "tags": []
   },
   "outputs": [],
   "source": [
    "def find_median(s):\n",
    "    \"\"\"Finds the median x-coordinate among the points s.\n",
    "\n",
    "    Args:\n",
    "        s ([List[Tuple[int, int]]]): The list of points sorted by x-coordinate.\n",
    "\n",
    "    Returns:\n",
    "        int: The median x-coordinate.\n",
    "    \"\"\"\n",
    "    ..."
   ]
  },
  {
   "cell_type": "markdown",
   "metadata": {},
   "source": [
    "#### Part B\n",
    "Before we implement the recursion, it might be helpful to understand how the distance is computed between the points in the strip. Use this part to find the closest pair of points among the points in the strip. You can assume the points are sorted by **y-coordinate** (why is this assumption helpful?).\n",
    "\n",
    "If you would like a recap on where the strip is, reference the [lecture slides](https://cs170.org/assets/lec/lec-4_blank.pdf)!\n",
    "\n",
    "_Points:_ 0"
   ]
  },
  {
   "cell_type": "code",
   "execution_count": null,
   "metadata": {
    "tags": []
   },
   "outputs": [],
   "source": [
    "def closest_pair_in_strip(points_in_strip):\n",
    "    \"\"\"Finds the pair of points of minimum distance among the points in points_in_strip.\n",
    "\n",
    "    Args:\n",
    "        s ([List[Tuple[int, int]]]): The list of points in the strip sorted by y-coordinate.\n",
    "\n",
    "    Returns:\n",
    "        Tuple[Tuple[int, int], Tuple[int, int]]: A tuple of the closest pair of points in the strip.\n",
    "    \"\"\"\n",
    "    ..."
   ]
  },
  {
   "cell_type": "markdown",
   "metadata": {},
   "source": [
    "#### Part C\n",
    "Now, we want to use the previous functions to write out main recursive divide-and-conquer algorithm. Use this part to find the closest pair from a given set of points.\n",
    "\n",
    "What is something you should assume about the order of the input points? Why do we have two inputs for the recursive call?\n",
    "\n",
    "If you are stuck here, reference the [lecture](https://cs170.org/assets/lec/lec-4_blank.pdf) again and see what we should be doing in the beginning. You should be able to answer both questions before starting this part.\n",
    "\n",
    "_Points:_ 0"
   ]
  },
  {
   "cell_type": "code",
   "execution_count": null,
   "metadata": {
    "tags": []
   },
   "outputs": [],
   "source": [
    "def closest_pair_recurse(sx, sy):\n",
    "    \"\"\"Implements the recursive process of the divide and conquer approach.\n",
    "\n",
    "    Args:\n",
    "        sx ([List[Tuple[int, int]]]): The list of points.\n",
    "        sy ([List[Tuple[int, int]]]): The list of points.\n",
    "\n",
    "    Returns:\n",
    "        Tuple[Tuple[int, int], Tuple[int, int]]: A tuple of the closest pair of points.\n",
    "    \"\"\"\n",
    "    ..."
   ]
  },
  {
   "cell_type": "markdown",
   "metadata": {},
   "source": [
    "#### Part D\n",
    "If you completed the previous parts, you can now put everything together and finish the algorithm. If you are not using the previous parts, feel free to start your implementation here.\n",
    "As a recap, this is your task.\n",
    "> **Task 3:** Write an algorithm that returns the closest pair of points using the divide and conquer method.\n",
    "\n",
    "If there are multiple solutions, you may return any of them. Your implementation must run in $O(nlogn)$ time.\n",
    "\n",
    "_Points:_ 6"
   ]
  },
  {
   "cell_type": "code",
   "execution_count": null,
   "metadata": {
    "tags": []
   },
   "outputs": [],
   "source": [
    "def closest_pair(s):\n",
    "    \"\"\"Implements the closest pair algorithm to find the pair of points of minimum distance from set s.\n",
    "\n",
    "    Args:\n",
    "        s ([List[Tuple[int, int]]]): The list of points.\n",
    "\n",
    "    Returns:\n",
    "        Tuple[Tuple[int, int], Tuple[int, int]]: A tuple of the closest pair of points.\n",
    "    \"\"\"\n",
    "    ..."
   ]
  },
  {
   "cell_type": "code",
   "execution_count": null,
   "metadata": {
    "deletable": false,
    "editable": false
   },
   "outputs": [],
   "source": [
    "grader.check(\"q6\")"
   ]
  },
  {
   "cell_type": "markdown",
   "metadata": {
    "deletable": false,
    "editable": false
   },
   "source": [
    "## Submission\n",
    "\n",
    "Make sure you have run all cells in your notebook in order before running the cell below, so that all images/graphs appear in the output. The cell below will generate a zip file for you to submit."
   ]
  },
  {
   "cell_type": "code",
   "execution_count": null,
   "metadata": {
    "deletable": false,
    "editable": false
   },
   "outputs": [],
   "source": [
    "grader.export(pdf=False, force_save=True, run_tests=True)"
   ]
  },
  {
   "cell_type": "markdown",
   "metadata": {},
   "source": [
    " "
   ]
  }
 ],
 "metadata": {
  "kernelspec": {
   "display_name": "base",
   "language": "python",
   "name": "python3"
  },
  "language_info": {
   "codemirror_mode": {
    "name": "ipython",
    "version": 3
   },
   "file_extension": ".py",
   "mimetype": "text/x-python",
   "name": "python",
   "nbconvert_exporter": "python",
   "pygments_lexer": "ipython3",
   "version": "3.12.2"
  },
  "otter": {
   "OK_FORMAT": false,
   "assignment_name": "closest-pair",
   "tests": {
    "q1": "from otter.test_files import test_case\n\nOK_FORMAT = False\n\nname = \"q1\"\npoints = 1\n\n@test_case(points=None, hidden=False)\ndef test_q1(distance, tqdm, math, np, time, rng_seed):\n    rng = np.random.default_rng(rng_seed)\n\n    import signal\n    def timeout_handler(num, stack):\n        raise Exception(\"Your solution timed out.\")\n    if hasattr(signal, 'SIGALRM') and hasattr(signal, 'alarm'):\n        signal.signal(signal.SIGALRM, timeout_handler)\n        signal.alarm(120)\n    \n    try:\n        # 50 random tests\n        for n in tqdm.tqdm(range(20,10001,200), desc=\"Testing correctness\"):\n            p1_x = rng.integers(-n, n)\n            p1_y = rng.integers(-n, n)\n            p2_x = rng.integers(-n, n)\n            p2_y = rng.integers(-n, n)\n\n            expected_distance = math.sqrt((p1_x - p2_x) ** 2 + (p1_y - p2_y) ** 2)\n            actual_distance = distance((p1_x, p1_y), (p2_x, p2_y))\n            assert actual_distance is not None, \"distance function has not been implemented.\"\n            assert math.isclose(expected_distance, actual_distance, rel_tol=1e-6), f\"Random test case failed, expected {expected_distance}, got {actual_distance}\"\n    finally:\n        if hasattr(signal, 'SIGALRM') and hasattr(signal, 'alarm'):\n            signal.alarm(0)\n\n\n",
    "q2": "from otter.test_files import test_case\n\nOK_FORMAT = False\n\nname = \"q2\"\npoints = 2\n\n@test_case(points=None, hidden=False)\ndef test_q2(naive_closest_pair, distance, tqdm, math, np, time, rng_seed):\n    rng = np.random.default_rng(rng_seed)\n\n    import signal\n    def timeout_handler(num, stack):\n        raise Exception(\"Your solution timed out.\")\n    if hasattr(signal, 'SIGALRM') and hasattr(signal, 'alarm'):\n        signal.signal(signal.SIGALRM, timeout_handler)\n        signal.alarm(120)\n    \n    try:\n        # 25 random tests\n        for n in tqdm.tqdm(range(20,1001,40), desc=\"Testing correctness\"):\n            num_points = rng.integers(2, n)\n            points = []\n            for _ in range(num_points):\n                p_x = rng.integers(-n, n)\n                p_y = rng.integers(-n, n)\n                points.append((p_x, p_y))\n\n            # find list of closest pair of points (all have the same min distance)\n            min_distance = float(\"inf\")\n            for i in range(len(points)):\n                for j in range(i + 1, len(points)):\n                    p1 = points[i]\n                    p2 = points[j]\n                    curr_dist = distance(p1, p2)\n                    assert curr_dist is not None, \"distance function has not been implemented.\"\n                    if curr_dist < min_distance:\n                        min_distance = curr_dist\n            actual_points = naive_closest_pair(points)\n            assert actual_points is not None, \"naive_closest_pair function has not been implemented.\"\n            p1 = actual_points[0]\n            p2 = actual_points[1]\n            actual_distance = distance(p1, p2)\n            assert min_distance == actual_distance, \\\n                f\"Random test case failed: expected distance {min_distance}, got distance {actual_distance}\"\n\n            \n        student_time = 0\n        reference_time = 0\n        slowdown_factor = 25\n        # check speed 25 times\n        for n in tqdm.tqdm(range(20,1001,40), desc=\"Testing speed\"):\n            num_points = rng.integers(2, n)\n            points = []\n            for _ in range(num_points):\n                p_x = rng.integers(-n, n)\n                p_y = rng.integers(-n, n)\n                points.append((p_x, p_y))\n\n            start = time()\n            naive_closest_pair(points)\n            student_time += time() - start\n\n            start = time()\n            min_distance = float(\"inf\")\n            expected_points = (points[0], points[1])\n            for i in range(len(points)):\n                for j in range(i + 1, len(points)):\n                    p1 = points[i]\n                    p2 = points[j]\n                    curr_dist = distance(p1, p2) or float(\"inf\")\n                    if curr_dist < min_distance:\n                        min_distance = curr_dist\n                        expected_points = (p1, p2)\n            reference_time += time() - start    \n\n        assert student_time < reference_time * slowdown_factor, f\"Your solution is too slow. It ran in {student_time:.2f}s, but needs to run in {reference_time * slowdown_factor:.2f}s.\"\n\n    finally:\n        if hasattr(signal, 'SIGALRM') and hasattr(signal, 'alarm'):\n            signal.alarm(0)\n\n\n\n",
    "q6": "from otter.test_files import test_case\n\nOK_FORMAT = False\n\nname = \"q6\"\npoints = 6\n\n@test_case(points=None, hidden=False)\ndef test_q3(closest_pair, naive_closest_pair, distance, tqdm, math, np, time, rng_seed):\n    rng = np.random.default_rng(rng_seed)\n\n    import signal\n    def timeout_handler(num, stack):\n        raise Exception(\"Your solution timed out.\")\n    if hasattr(signal, 'SIGALRM') and hasattr(signal, 'alarm'):\n        signal.signal(signal.SIGALRM, timeout_handler)\n        signal.alarm(120)\n    \n    try:\n        # 50 random tests\n        for n in tqdm.tqdm(range(20,1001,20), desc=\"Testing correctness\"):\n            num_points = rng.integers(2, n)\n            points = []\n            for _ in range(num_points):\n                p_x = rng.integers(-n, n)\n                p_y = rng.integers(-n, n)\n                points.append((p_x, p_y))\n\n            # find list of closest pair of points (all have the same min distance)\n            expected_distance = float(\"inf\")\n            for i in range(len(points)):\n                for j in range(i + 1, len(points)):\n                    p1 = points[i]\n                    p2 = points[j]\n                    curr_dist = distance(p1, p2)\n                    assert curr_dist is not None, \"distance function has not been implemented.\"\n                    if curr_dist < expected_distance:\n                        expected_distance = curr_dist\n            actual_points = closest_pair(points)\n            assert actual_points is not None, \"closest_pair function has not been implemented.\"\n            p1 = actual_points[0]\n            p2 = actual_points[1]\n            actual_distance = distance(p1, p2)\n            assert expected_distance == actual_distance, \\\n                f\"Random test case failed: expected distance {expected_distance}, got distance {actual_distance}\"\n\n            \n        student_time = 0\n        reference_time = 0\n        slowdown_factor = 0.75\n        # check speed 50 times\n        for n in tqdm.tqdm(range(20,1001,20), desc=\"Testing speed\"):\n            num_points = rng.integers(2, n)\n            points = []\n            for _ in range(num_points):\n                p_x = rng.integers(-n, n)\n                p_y = rng.integers(-n, n)\n                points.append((p_x, p_y))\n\n            start = time()\n            closest_pair(points)\n            student_time += time() - start\n\n            start = time()\n            min_distance = float(\"inf\")\n            expected_points = (points[0], points[1])\n            for i in range(len(points)):\n                for j in range(i + 1, len(points)):\n                    p1 = points[i]\n                    p2 = points[j]\n                    curr_dist = distance(p1, p2)\n                    if curr_dist < min_distance:\n                        min_distance = curr_dist\n                        expected_points = (p1, p2)\n            reference_time += time() - start    \n\n        assert student_time < reference_time * slowdown_factor, f\"Your solution is too slow. It ran in {student_time:.2f}s, but needs to run in {reference_time * slowdown_factor:.2f}s.\"\n\n    finally:\n        if hasattr(signal, 'SIGALRM') and hasattr(signal, 'alarm'):\n            signal.alarm(0)\n\n\n\n"
   }
  }
 },
 "nbformat": 4,
 "nbformat_minor": 4
}
