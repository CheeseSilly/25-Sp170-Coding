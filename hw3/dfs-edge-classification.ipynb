{
 "cells": [
  {
   "cell_type": "markdown",
   "metadata": {
    "deletable": false,
    "editable": false
   },
   "source": [
    "## Depth First Search and Edge Classification"
   ]
  },
  {
   "cell_type": "markdown",
   "metadata": {
    "deletable": false,
    "editable": false
   },
   "source": [
    "### If you're using Datahub:\n",
    "* Run the cell below **and restart the kernel if needed**\n",
    "\n",
    "### If you're running locally:\n",
    "You'll need to perform some extra setup.\n",
    "#### First-time setup\n",
    "* Install Anaconda following the instructions here: https://www.anaconda.com/products/distribution \n",
    "* Create a conda environment: `conda create -n cs170 python=3.10`\n",
    "* Activate the environment: `conda activate cs170`\n",
    "    * See for more details on creating conda environments https://conda.io/projects/conda/en/latest/user-guide/tasks/manage-environments.html\n",
    "* Install pip: `conda install pip`\n",
    "* Install jupyter: `conda install jupyter`\n",
    "\n",
    "#### Every time you want to work\n",
    "* Make sure you've activated the conda environment: `conda activate cs170`\n",
    "* Launch jupyter: `jupyter notebook` or `jupyter lab` \n",
    "* Run the cell below **and restart the kernel if needed**"
   ]
  },
  {
   "cell_type": "code",
   "execution_count": 3,
   "metadata": {
    "deletable": false,
    "editable": false
   },
   "outputs": [],
   "source": [
    "# Install dependencies\n",
    "!pip install -r requirements.txt --quiet"
   ]
  },
  {
   "cell_type": "code",
   "execution_count": 4,
   "metadata": {
    "deletable": false,
    "editable": false
   },
   "outputs": [],
   "source": [
    "import otter\n",
    "assert (\n",
    "    otter.__version__ >= \"5.5.0\"\n",
    "), \"Please reinstall the requirements and restart your kernel.\"\n",
    "import networkx as nx\n",
    "import typing\n",
    "import numpy as np\n",
    "import tqdm\n",
    "import pickle\n",
    "grader = otter.Notebook(\"dfs-edge-classification.ipynb\")\n",
    "\n",
    "rng_seed = 0"
   ]
  },
  {
   "cell_type": "code",
   "execution_count": 5,
   "metadata": {
    "deletable": false,
    "editable": false
   },
   "outputs": [],
   "source": [
    "# Load test cases\n",
    "file_path = \"generated_testcases.pkl\"\n",
    "\n",
    "# Load the variables from the pickle file\n",
    "with open(file_path, \"rb\") as file:\n",
    "    loaded_data = pickle.load(file)\n",
    "file.close()\n",
    "inputs, outputs = loaded_data"
   ]
  },
  {
   "cell_type": "markdown",
   "metadata": {
    "deletable": false,
    "editable": false
   },
   "source": [
    "#### Representing graphs in code\n",
    "\n",
    "There are multiple ways to represent graphs in code. In class we covered [adjacency matrices](https://people.eecs.berkeley.edu/~vazirani/algorithms/chap3.pdf#page=2) and [adjacency lists](https://people.eecs.berkeley.edu/~vazirani/algorithms/chap3.pdf#page=3). There is also the edge list representation, in which you store the edges in a single 1 dimensional list. In general for CS170 and in most cases, we choose to use the adjacency list representation since it allows us to efficiently search over a node's neighbors.\n",
    "\n",
    "In many programming problems, verticies are typically labelled $0$ through $n-1$ for convenience (recall that arrays and lists in most languages begin at index 0). This allows us to represent an adjacency list using a list of lists that store ints. Given an edge list, the following code will create an adjacency list for an **unweighted directed graph**."
   ]
  },
  {
   "cell_type": "code",
   "execution_count": 6,
   "metadata": {
    "deletable": false,
    "editable": false
   },
   "outputs": [],
   "source": [
    "def generate_adj_list(n, edge_list):\n",
    "    \"\"\" Generates an adjacency list given a set of edges.\n",
    "    \n",
    "    Args:\n",
    "        n (int): Number of nodes in the graph. The nodes are labelled with integers 0 through n-1\n",
    "        edge_list (List[Tuple(int,int)]): Edge list where each tuple (u,v) represents the directed edge (u,v) in the graph.\n",
    "        \n",
    "    Returns:\n",
    "        List[List[int]]: The adjacency list.\n",
    "    \"\"\"\n",
    "    adj_list = [[] for i in range(n)] \n",
    "    for u, v in edge_list:\n",
    "        adj_list[u].append(v)\n",
    "    for nodes in adj_list:\n",
    "        nodes.sort()\n",
    "    return adj_list\n",
    "\n",
    "def draw_graph(adj_list):\n",
    "    \"\"\" Utility method for visualizing graphs\n",
    "\n",
    "    Args:\n",
    "        adj_list (List[List[int]]): Adjacency list of the graph given by generate_adj_list.\n",
    "\n",
    "    Returns:\n",
    "        None\n",
    "    \"\"\"\n",
    "    G = nx.DiGraph()\n",
    "    for u in range(len(adj_list)):\n",
    "        for v in adj_list[u]:\n",
    "            G.add_edge(u, v)\n",
    "    nx.draw(G, with_labels=True)"
   ]
  },
  {
   "cell_type": "markdown",
   "metadata": {
    "deletable": false,
    "editable": false
   },
   "source": [
    "## Q1: Reconstructing the DFS Path\n",
    "\n",
    "In class we showed how to use DFS to check if there exists a path between two nodes, topologically sort nodes, and find SCCs. In those algorithms, pre and post numbers were used.\n",
    "\n",
    "Here you'll implement a variation of DFS to print out the path between two nodes. In many problems, we want to be able to find the actual path between two nodes, not just determine if it exists. \n",
    "\n",
    "> **Task 1:** Compute a path from $s$ to $t$ using DFS and return the path as a list of nodes on that path. \n",
    "\n",
    "For example, the path ${s \\to a \\to b \\to c \\to t}$ corresponds to the list `[s, a, b, c, t]`. If no path exists, return the empty list `[]`.\n",
    "\n",
    "You do not need to implement calculating pre and post numbers for this exercise.\n",
    "\n",
    "*Hint:*\n",
    "1. If you want to start with the recursive DFS implementation from DPV, you can use [mutable types or the `nonlocal` keyword](https://cs61a.org/study-guide/mutation/#local-state) to preserve state across recursive calls.\n",
    "2. It may be helpful to maintain an extra data structure which tracks the previous node we visited each time we visit a new node. "
   ]
  },
  {
   "cell_type": "code",
   "execution_count": 7,
   "metadata": {},
   "outputs": [],
   "source": [
    "# def dfs_path(adj_list, s, t):\n",
    "#     \"\"\" Finds a path from s to t using DFS or returns an empty list if no path exists.\n",
    "    \n",
    "#     Args:\n",
    "#         adj_list (List[List]): An adjacency list.\n",
    "#         s (int): An int representing the starting node.\n",
    "#         t (int): An int representing the destination node.\n",
    "\n",
    "#     Returns:\n",
    "#         List[int]: A list of nodes starting with s and ending with t representing an s to t path if it exists. \n",
    "#                    Returns an empty list otherwise.\n",
    "#     \"\"\"\n",
    "    \n",
    "#     def explore(adj_list, curr):\n",
    "#         \"\"\"\n",
    "#         Implements the explore subroutine from DPV, which is used in DFS. feel free to delete this \n",
    "#         function and use an alternative implementation if you prefer.\n",
    "\n",
    "#         Args:\n",
    "#             adj_list (List[List]): An adjacency list.\n",
    "#             curr (int): The node currently being traversed.\n",
    "        \n",
    "#         Returns:\n",
    "#             None\n",
    "#         \"\"\"\n",
    "#         nonlocal visited,prev\n",
    "#         visited[curr]=True\n",
    "        \n",
    "#         for i in adj_list[curr]:\n",
    "#             if not visited[i]:\n",
    "#               prev[i]=curr\n",
    "#               explore(adj_list,i)\n",
    "              \n",
    "#     n = len(adj_list)\n",
    "#     visited = [False]*n\n",
    "#     prev = [-1]*n\n",
    "#     explore(adj_list,s)\n",
    "        \n",
    "#     path=[]\n",
    "#     if not visited[t]: \n",
    "#         return []\n",
    "#     curr=t\n",
    "#     while curr !=s :\n",
    "#         path.append(curr)\n",
    "#         curr=prev[curr]\n",
    "#     path.append(curr)\n",
    "#     path.reverse()\n",
    "#     return path\n",
    "\n",
    "def dfs_path(adj_list, s, t):\n",
    "    visited = set()  \n",
    "    path = []         \n",
    "\n",
    "    def explore(adj_list, curr):\n",
    "        visited.add(curr)\n",
    "        path.append(curr)\n",
    "        if curr == t:\n",
    "            return True  # 表示找到目标\n",
    "        \n",
    "        for i in adj_list[curr]:\n",
    "            if i not in visited:\n",
    "                if explore(adj_list, i):  # 如果子节点找到 t，立即返回\n",
    "                    return True\n",
    "        \n",
    "        path.pop()  # 回溯\n",
    "        return False  # 未找到目标\n",
    "\n",
    "    found = explore(adj_list, s)\n",
    "    if not found:\n",
    "        return []\n",
    "    return path\n",
    "\n",
    "\n",
    "    \n",
    "    \n",
    "    "
   ]
  },
  {
   "cell_type": "markdown",
   "metadata": {
    "deletable": false,
    "editable": false
   },
   "source": [
    "### Debugging\n",
    "\n",
    "You can create sample tests in the following cells to help debug your solution. We provide a few small tests as an example, but they might not be comprehensive.\n",
    "\n",
    "To add a new graph to the test, append a new edge list to `edge_lists` as shown in the next cell.  \n",
    "__Remember that these edges are directed, so do not add both directions of an edge to the edge list.__"
   ]
  },
  {
   "cell_type": "code",
   "execution_count": 8,
   "metadata": {
    "deletable": false,
    "editable": false
   },
   "outputs": [],
   "source": [
    "edge_lists = []\n",
    "edge_lists.append([(0,1), (0,2), (1,2), (2,3), (3,4), (3,5), (4,5)])   # edge list of first graph\n",
    "edge_lists.append([(0,1), (0,2), (1,2), (3,4), (3,5), (4,5)])          # edge list of second graph\n",
    "# add any additional tests here"
   ]
  },
  {
   "cell_type": "markdown",
   "metadata": {
    "deletable": false,
    "editable": false
   },
   "source": [
    "For each test case you also need to add a starting node $s$, a destination node $t$, and $n$ the number of nodes in the graph, add them to the following lists. "
   ]
  },
  {
   "cell_type": "code",
   "execution_count": 9,
   "metadata": {
    "deletable": false,
    "editable": false
   },
   "outputs": [],
   "source": [
    "s_list = []\n",
    "s_list.append(0)  # s for first graph \n",
    "s_list.append(1)  # s for second graph \n",
    "# add any additional tests here\n",
    "\n",
    "t_list = []\n",
    "t_list.append(3)  # t for first graph\n",
    "t_list.append(4)  # t for second graph\n",
    "# add any additional tests here\n",
    "\n",
    "n_list = []\n",
    "n_list.append(6)  # n = 6 for first graph\n",
    "n_list.append(6)  # n = 6 for second graph\n",
    "# add any additional tests here"
   ]
  },
  {
   "cell_type": "markdown",
   "metadata": {
    "deletable": false,
    "editable": false
   },
   "source": [
    "The following is a simplified version of the autograder, you may want to add more print statements or other debugging statements to check your function."
   ]
  },
  {
   "cell_type": "code",
   "execution_count": 10,
   "metadata": {
    "deletable": false,
    "editable": false
   },
   "outputs": [
    {
     "name": "stdout",
     "output_type": "stream",
     "text": [
      "Testing graph: 1\n"
     ]
    },
    {
     "data": {
      "image/png": "[encoded data removed]",
      "text/plain": [
       "<Figure size 640x480 with 1 Axes>"
      ]
     },
     "metadata": {},
     "output_type": "display_data"
    },
    {
     "name": "stdout",
     "output_type": "stream",
     "text": [
      "Testing graph: 2\n"
     ]
    },
    {
     "data": {
      "image/png": "[encoded data removed]",
      "text/plain": [
       "<Figure size 640x480 with 1 Axes>"
      ]
     },
     "metadata": {},
     "output_type": "display_data"
    },
    {
     "name": "stdout",
     "output_type": "stream",
     "text": [
      "Success\n"
     ]
    }
   ],
   "source": [
    "import matplotlib.pyplot as plt\n",
    "index = 1\n",
    "for s, t, n, edge_list in zip(s_list, t_list, n_list, edge_lists):\n",
    "    print(\"Testing graph:\", index)\n",
    "    index += 1\n",
    "    \n",
    "    adj_list_graph = generate_adj_list(n, edge_list) # function defined earlier\n",
    "    \n",
    "    path = dfs_path(adj_list_graph, s, t) \n",
    "    \n",
    "    nx_graph = nx.DiGraph(edge_list)\n",
    "    \n",
    "    # uncomment the following to plot each graph\n",
    "    \n",
    "    nx.draw(nx_graph, with_labels=True)\n",
    "    plt.title(f\"Graph with {n} vertices and start node {s} and destination {t}\")\n",
    "    plt.show()\n",
    "    \n",
    "    \n",
    "    if not nx.has_path(nx_graph,s,t):\n",
    "        assert len(path) == 0, f\"your dfs_path found an s-t path when there isn't one.\"\n",
    "    else:\n",
    "        # checks that the path returned is a real path in the graph and that it starts and ends \n",
    "        # at the right vertices\n",
    "        assert nx.is_simple_path(nx_graph, path), f\"your dfs_path did not return a valid simple path\"\n",
    "        assert path[0] == s, f\"your dfs_path returned a valid simple path, but it does not start at node s\"\n",
    "        assert path[-1] == t, f\"your dfs_path returned a valid simple path, but it does not end at node t\"\n",
    "\n",
    "print(\"Success\")"
   ]
  },
  {
   "cell_type": "code",
   "execution_count": 11,
   "metadata": {
    "deletable": false,
    "editable": false
   },
   "outputs": [
    {
     "name": "stderr",
     "output_type": "stream",
     "text": [
      "100%|██████████| 50/50 [00:01<00:00, 28.57it/s] \n"
     ]
    },
    {
     "data": {
      "text/html": [
       "<p><strong><pre style='display: inline;'>q1</pre></strong> passed! 🌈</p>"
      ],
      "text/plain": [
       "q1 results: All test cases passed!"
      ]
     },
     "execution_count": 11,
     "metadata": {},
     "output_type": "execute_result"
    }
   ],
   "source": [
    "grader.check(\"q1\")"
   ]
  },
  {
   "cell_type": "markdown",
   "metadata": {
    "deletable": false,
    "editable": false
   },
   "source": [
    "## Q2: Pre and Post Numbers\n",
    "In order to topologically sort or find strongly connected components, we need to be able to calculate pre and post numbers for each node. \n",
    "\n",
    "In this part, you will rework your implementation of DFS to allow it to generate pre and post order numbers for each node. It might be a good idea to copy/paste your solution from the previous part and modify it here. \n",
    "\n",
    "> **Task 2:** Implement a function that computes DFS pre and post numbers for each node in the graph.\n",
    "\n",
    "To pass the autograder, your smallest preorder number should be 1. Your largest postorder number should be  $ 2 \\times \\text{(number of vertices)}$. Return two lists of tuples, a `pre` list should containing tuples `(node, pre-number)`, and a `post` list containing tuples `(node, post-number)`. \n",
    "\n",
    "Both lists should be ordered according to the pre/post number in the tuple. **You should not use any sorting functions to accomplish this!**\n",
    "\n",
    "> **Reflect:** Why might returning pre/post numbers in this way be helpful for finding strongly connected components?\n",
    "\n",
    "Feel free to delete the starter code and implement your own solution.\n",
    "\n",
    "For this part, you can no longer assume that the entire graph is guaranteed to be reachable from some certain start node. How will this change your implementation?\n",
    "\n",
    "Finally, break ties by choosing the node with the smallest number value. The autograder may fail implementations which are otherwise correct but break ties in a different way."
   ]
  },
  {
   "cell_type": "code",
   "execution_count": 36,
   "metadata": {
    "tags": [
     "otter_answer_cell"
    ]
   },
   "outputs": [],
   "source": [
    "def get_pre_post(adj_list):\n",
    "    \"\"\" Computes pre and post numbers for each node in the graph.\n",
    "    \n",
    "    Args:\n",
    "        adj_list (List[List[int]]): The adjacency list that represents our input graph.\n",
    "        \n",
    "    Returns:\n",
    "        List[Tuple(int, int)], List[Tuple(int, int)]: The pre and post order values respectively.\n",
    "            Each tuple should have a vertex as its first entry, and the pre/post order value as its second entry.\n",
    "    \"\"\"\n",
    "    time = 1\n",
    "    n=len(adj_list)\n",
    "    pre = []\n",
    "    post = []\n",
    "    visited=[False]*n\n",
    "\n",
    "    # YOUR CODE HERE\n",
    "    ...\n",
    "    def explore(u):\n",
    "        nonlocal visited\n",
    "        nonlocal time\n",
    "        visited[u]=True\n",
    "        pre.append((u,time))\n",
    "        time+=1\n",
    "        for v in adj_list[u]:\n",
    "            if not visited[v]:\n",
    "                explore(v)\n",
    "        post.append((u,time))\n",
    "        time+=1\n",
    "\n",
    "    for i in range(n):\n",
    "        if not visited[i]:\n",
    "            explore(i)\n",
    "    \n",
    "    return pre, post"
   ]
  },
  {
   "cell_type": "code",
   "execution_count": 37,
   "metadata": {
    "deletable": false,
    "editable": false
   },
   "outputs": [
    {
     "name": "stderr",
     "output_type": "stream",
     "text": [
      "100%|██████████| 110/110 [00:00<00:00, 1282.22it/s]\n"
     ]
    },
    {
     "data": {
      "text/html": [
       "<p><strong><pre style='display: inline;'>q2</pre></strong> passed! ✨</p>"
      ],
      "text/plain": [
       "q2 results: All test cases passed!"
      ]
     },
     "execution_count": 37,
     "metadata": {},
     "output_type": "execute_result"
    }
   ],
   "source": [
    "grader.check(\"q2\")"
   ]
  },
  {
   "cell_type": "markdown",
   "metadata": {
    "deletable": false,
    "editable": false
   },
   "source": [
    "## Q3: Identifying Tree, Forward, Back, Cross Edges\n",
    "\n",
    "As we perform DFS traversals and create DFS trees and DFS forests within our graph, we would like to classify our edges according to how they appear in the resulting DFS forest. These classifications can provide us with insights about our graph. For example, the presence of a back edge $(u, v)$ tells us that we have a cycle within this graph that includes all the tree edges on the path from v to u and the back edge $(u, v)$.\n",
    "> **Task 3:** Given the adjacency list of a graph, add each edge present in the edge set to the correct classification according the DFS traversal you implemented in part 1.\n",
    "\n",
    "**Don't modify the initialization of the edges_lookup dictionary.**"
   ]
  },
  {
   "cell_type": "code",
   "execution_count": 52,
   "metadata": {
    "tags": [
     "otter_answer_cell"
    ]
   },
   "outputs": [],
   "source": [
    "def categorize_edges(adj_list):\n",
    "    \"\"\" Categorizes all edges of the graph.\n",
    "    \n",
    "    Args:\n",
    "        adj_list (List[List[int]]): The adjacency list that represents our input graph.\n",
    "        \n",
    "    Returns:\n",
    "        Dictionary({\n",
    "            'tree': set(),\n",
    "            'forward': set(),\n",
    "            'cross': set(),\n",
    "            'back': set()  \n",
    "        }) where each set() contains the edges that belong to the corresponding edge type\n",
    "    \"\"\"\n",
    "    edges_lookup = {\n",
    "        'tree': set(),\n",
    "        'forward': set(),\n",
    "        'cross': set(),\n",
    "        'back': set()\n",
    "    }\n",
    "    ...\n",
    "    pre,post=get_pre_post(adj_list)\n",
    "    preorder={}\n",
    "    postorder={}\n",
    "    for u,i in pre:\n",
    "        preorder[u]=i\n",
    "    for u,i in post:\n",
    "        postorder[u]=i\n",
    "    \n",
    "    n=len(adj_list)\n",
    "    prev=[-1]*n\n",
    "    visited=[False]*n\n",
    "    def explore(adj_list,u):\n",
    "        nonlocal visited\n",
    "        nonlocal prev\n",
    "        visited[u]=True\n",
    "        for v in adj_list[u]:\n",
    "            if not visited[v]:\n",
    "                prev[v]=u\n",
    "                explore(adj_list,v)\n",
    "    for v in range(len(adj_list)):\n",
    "        if not visited[v]:\n",
    "            explore(adj_list,v)\n",
    "\n",
    "    for u in range(len(adj_list)):\n",
    "        for v in adj_list[u]:\n",
    "            edge=(u,v)\n",
    "            if preorder[u]<preorder[v]<postorder[v]<postorder[u]:\n",
    "                if prev[v]==u:\n",
    "                    edges_lookup['tree'].add(edge)\n",
    "                else:\n",
    "                    edges_lookup['forward'].add(edge)\n",
    "            elif preorder[v]<preorder[u]<postorder[u]<postorder[v]: \n",
    "                edges_lookup['back'].add(edge)\n",
    "            else:\n",
    "                edges_lookup['cross'].add(edge)\n",
    "\n",
    "    return edges_lookup"
   ]
  },
  {
   "cell_type": "code",
   "execution_count": 53,
   "metadata": {
    "deletable": false,
    "editable": false
   },
   "outputs": [
    {
     "name": "stderr",
     "output_type": "stream",
     "text": [
      "100%|██████████| 100/100 [00:00<00:00, 1377.08it/s]\n"
     ]
    },
    {
     "data": {
      "text/html": [
       "<p><strong><pre style='display: inline;'>q3</pre></strong> passed! 🌟</p>"
      ],
      "text/plain": [
       "q3 results: All test cases passed!"
      ]
     },
     "execution_count": 53,
     "metadata": {},
     "output_type": "execute_result"
    }
   ],
   "source": [
    "grader.check(\"q3\")"
   ]
  },
  {
   "cell_type": "markdown",
   "metadata": {
    "deletable": false,
    "editable": false
   },
   "source": [
    "## Submission\n",
    "\n",
    "Make sure you have run all cells in your notebook in order before running the cell below, so that all images/graphs appear in the output. The cell below will generate a zip file for you to submit."
   ]
  },
  {
   "cell_type": "code",
   "execution_count": 54,
   "metadata": {
    "deletable": false,
    "editable": false
   },
   "outputs": [
    {
     "data": {
      "application/javascript": "\n            if (typeof Jupyter !== 'undefined') {\n                Jupyter.notebook.save_checkpoint();\n            }\n        ",
      "text/plain": [
       "<IPython.core.display.Javascript object>"
      ]
     },
     "metadata": {},
     "output_type": "display_data"
    },
    {
     "name": "stderr",
     "output_type": "stream",
     "text": [
      "d:\\miniconda3\\Lib\\site-packages\\otter\\check\\notebook.py:454: UserWarning: Couldn't automatically save the notebook; we recommend using File > Save & Checkpoint and then re-running this cell. The zip file returned by this call will use the last saved version of this notebook.\n",
      "  warnings.warn(\n"
     ]
    },
    {
     "name": "stdout",
     "output_type": "stream",
     "text": [
      "Running your submission against local test cases...\n",
      "\n",
      "\n"
     ]
    },
    {
     "name": "stderr",
     "output_type": "stream",
     "text": [
      "d:\\miniconda3\\Lib\\site-packages\\otter\\check\\utils.py:115: RuntimeWarning: Traceback (most recent call last):\n",
      "  File \"d:\\miniconda3\\Lib\\site-packages\\nbconvert\\filters\\markdown_mistune.py\", line 24, in <module>\n",
      "    from mistune import (  # type:ignore[attr-defined]\n",
      "  File \"d:\\miniconda3\\Lib\\site-packages\\mistune\\__init__.py\", line 4, in <module>\n",
      "    from .renderers import AstRenderer, HTMLRenderer\n",
      "ImportError: cannot import name 'AstRenderer' from 'mistune.renderers' (d:\\miniconda3\\Lib\\site-packages\\mistune\\renderers\\__init__.py)\n",
      "\n",
      "During handling of the above exception, another exception occurred:\n",
      "\n",
      "Traceback (most recent call last):\n",
      "  File \"<frozen runpy>\", line 198, in _run_module_as_main\n",
      "  File \"<frozen runpy>\", line 88, in _run_code\n",
      "  File \"d:\\miniconda3\\Lib\\site-packages\\otter\\check\\validate_export\\__main__.py\", line 56, in <module>\n",
      "    main()\n",
      "  File \"d:\\miniconda3\\Lib\\site-packages\\otter\\check\\validate_export\\__main__.py\", line 41, in main\n",
      "    results = grade_notebook(\n",
      "              ^^^^^^^^^^^^^^^\n",
      "  File \"d:\\miniconda3\\Lib\\site-packages\\otter\\execute\\__init__.py\", line 63, in grade_notebook\n",
      "    from .preprocessor import GradingPreprocessor\n",
      "  File \"d:\\miniconda3\\Lib\\site-packages\\otter\\execute\\preprocessor.py\", line 7, in <module>\n",
      "    from nbconvert.exporters import PythonExporter\n",
      "  File \"d:\\miniconda3\\Lib\\site-packages\\nbconvert\\__init__.py\", line 7, in <module>\n",
      "    from .exporters import (\n",
      "  File \"d:\\miniconda3\\Lib\\site-packages\\nbconvert\\exporters\\__init__.py\", line 4, in <module>\n",
      "    from .html import HTMLExporter\n",
      "  File \"d:\\miniconda3\\Lib\\site-packages\\nbconvert\\exporters\\html.py\", line 29, in <module>\n",
      "    from nbconvert.filters.markdown_mistune import IPythonRenderer, MarkdownWithMath\n",
      "  File \"d:\\miniconda3\\Lib\\site-packages\\nbconvert\\filters\\markdown_mistune.py\", line 39, in <module>\n",
      "    from mistune import (  # type: ignore[attr-defined]\n",
      "  File \"d:\\miniconda3\\Lib\\site-packages\\mistune\\__init__.py\", line 4, in <module>\n",
      "    from .renderers import AstRenderer, HTMLRenderer\n",
      "ImportError: cannot import name 'AstRenderer' from 'mistune.renderers' (d:\\miniconda3\\Lib\\site-packages\\mistune\\renderers\\__init__.py)\n",
      "\n",
      "  warnings.warn(results.stderr.decode(\"utf-8\"), RuntimeWarning)\n"
     ]
    },
    {
     "ename": "EOFError",
     "evalue": "Ran out of input",
     "output_type": "error",
     "traceback": [
      "\u001b[1;31m---------------------------------------------------------------------------\u001b[0m",
      "\u001b[1;31mEOFError\u001b[0m                                  Traceback (most recent call last)",
      "Cell \u001b[1;32mIn[54], line 1\u001b[0m\n\u001b[1;32m----> 1\u001b[0m grader\u001b[38;5;241m.\u001b[39mexport(pdf\u001b[38;5;241m=\u001b[39m\u001b[38;5;28;01mFalse\u001b[39;00m, force_save\u001b[38;5;241m=\u001b[39m\u001b[38;5;28;01mTrue\u001b[39;00m, run_tests\u001b[38;5;241m=\u001b[39m\u001b[38;5;28;01mTrue\u001b[39;00m)\n",
      "File \u001b[1;32md:\\miniconda3\\Lib\\site-packages\\otter\\check\\utils.py:206\u001b[0m, in \u001b[0;36mgrading_mode_disabled\u001b[1;34m(wrapped, self, args, kwargs)\u001b[0m\n\u001b[0;32m    204\u001b[0m \u001b[38;5;28;01mif\u001b[39;00m \u001b[38;5;28mtype\u001b[39m(\u001b[38;5;28mself\u001b[39m)\u001b[38;5;241m.\u001b[39m_grading_mode:\n\u001b[0;32m    205\u001b[0m     \u001b[38;5;28;01mreturn\u001b[39;00m\n\u001b[1;32m--> 206\u001b[0m \u001b[38;5;28;01mreturn\u001b[39;00m wrapped(\u001b[38;5;241m*\u001b[39margs, \u001b[38;5;241m*\u001b[39m\u001b[38;5;241m*\u001b[39mkwargs)\n",
      "File \u001b[1;32md:\\miniconda3\\Lib\\site-packages\\otter\\check\\utils.py:188\u001b[0m, in \u001b[0;36mincompatible_with.<locals>.incompatible\u001b[1;34m(wrapped, self, args, kwargs)\u001b[0m\n\u001b[0;32m    186\u001b[0m     \u001b[38;5;28;01melse\u001b[39;00m:\n\u001b[0;32m    187\u001b[0m         \u001b[38;5;28;01mreturn\u001b[39;00m\n\u001b[1;32m--> 188\u001b[0m \u001b[38;5;28;01mreturn\u001b[39;00m wrapped(\u001b[38;5;241m*\u001b[39margs, \u001b[38;5;241m*\u001b[39m\u001b[38;5;241m*\u001b[39mkwargs)\n",
      "File \u001b[1;32md:\\miniconda3\\Lib\\site-packages\\otter\\check\\utils.py:242\u001b[0m, in \u001b[0;36mlogs_event.<locals>.event_logger\u001b[1;34m(wrapped, self, args, kwargs)\u001b[0m\n\u001b[0;32m    240\u001b[0m \u001b[38;5;28;01mexcept\u001b[39;00m \u001b[38;5;167;01mException\u001b[39;00m \u001b[38;5;28;01mas\u001b[39;00m e:\n\u001b[0;32m    241\u001b[0m     \u001b[38;5;28mself\u001b[39m\u001b[38;5;241m.\u001b[39m_log_event(event_type, success\u001b[38;5;241m=\u001b[39m\u001b[38;5;28;01mFalse\u001b[39;00m, error\u001b[38;5;241m=\u001b[39me)\n\u001b[1;32m--> 242\u001b[0m     \u001b[38;5;28;01mraise\u001b[39;00m e\n\u001b[0;32m    244\u001b[0m \u001b[38;5;28;01mif\u001b[39;00m ret \u001b[38;5;129;01mis\u001b[39;00m \u001b[38;5;28;01mNone\u001b[39;00m:\n\u001b[0;32m    245\u001b[0m     ret \u001b[38;5;241m=\u001b[39m LoggedEventReturnValue(\u001b[38;5;28;01mNone\u001b[39;00m)\n",
      "File \u001b[1;32md:\\miniconda3\\Lib\\site-packages\\otter\\check\\utils.py:238\u001b[0m, in \u001b[0;36mlogs_event.<locals>.event_logger\u001b[1;34m(wrapped, self, args, kwargs)\u001b[0m\n\u001b[0;32m    233\u001b[0m \u001b[38;5;250m\u001b[39m\u001b[38;5;124;03m\"\"\"\u001b[39;00m\n\u001b[0;32m    234\u001b[0m \u001b[38;5;124;03mRuns a method, catching any errors and logging the call. Returns the unwrapped return value\u001b[39;00m\n\u001b[0;32m    235\u001b[0m \u001b[38;5;124;03mof the wrapped function.\u001b[39;00m\n\u001b[0;32m    236\u001b[0m \u001b[38;5;124;03m\"\"\"\u001b[39;00m\n\u001b[0;32m    237\u001b[0m \u001b[38;5;28;01mtry\u001b[39;00m:\n\u001b[1;32m--> 238\u001b[0m     ret: Optional[LoggedEventReturnValue[T]] \u001b[38;5;241m=\u001b[39m wrapped(\u001b[38;5;241m*\u001b[39margs, \u001b[38;5;241m*\u001b[39m\u001b[38;5;241m*\u001b[39mkwargs)\n\u001b[0;32m    240\u001b[0m \u001b[38;5;28;01mexcept\u001b[39;00m \u001b[38;5;167;01mException\u001b[39;00m \u001b[38;5;28;01mas\u001b[39;00m e:\n\u001b[0;32m    241\u001b[0m     \u001b[38;5;28mself\u001b[39m\u001b[38;5;241m.\u001b[39m_log_event(event_type, success\u001b[38;5;241m=\u001b[39m\u001b[38;5;28;01mFalse\u001b[39;00m, error\u001b[38;5;241m=\u001b[39me)\n",
      "File \u001b[1;32md:\\miniconda3\\Lib\\site-packages\\otter\\check\\notebook.py:552\u001b[0m, in \u001b[0;36mNotebook.export\u001b[1;34m(self, nb_path, export_path, pdf, filtering, pagebreaks, files, display_link, force_save, run_tests, ignore_log)\u001b[0m\n\u001b[0;32m    550\u001b[0m     \u001b[38;5;28;01mif\u001b[39;00m pdf_error \u001b[38;5;129;01mis\u001b[39;00m \u001b[38;5;129;01mnot\u001b[39;00m \u001b[38;5;28;01mNone\u001b[39;00m:\n\u001b[0;32m    551\u001b[0m         \u001b[38;5;28;01mraise\u001b[39;00m pdf_error\n\u001b[1;32m--> 552\u001b[0m     continue_export()\n\u001b[0;32m    553\u001b[0m \u001b[38;5;28;01melse\u001b[39;00m:\n\u001b[0;32m    554\u001b[0m     display_pdf_confirmation_widget(\n\u001b[0;32m    555\u001b[0m         \u001b[38;5;28mself\u001b[39m\u001b[38;5;241m.\u001b[39m_nbmeta_config\u001b[38;5;241m.\u001b[39mexport_pdf_failure_message, pdf_error, continue_export\n\u001b[0;32m    556\u001b[0m     )\n",
      "File \u001b[1;32md:\\miniconda3\\Lib\\site-packages\\otter\\check\\notebook.py:530\u001b[0m, in \u001b[0;36mNotebook.export.<locals>.continue_export\u001b[1;34m()\u001b[0m\n\u001b[0;32m    528\u001b[0m \u001b[38;5;28;01mif\u001b[39;00m run_tests:\n\u001b[0;32m    529\u001b[0m     \u001b[38;5;28mprint\u001b[39m(\u001b[38;5;124m\"\u001b[39m\u001b[38;5;124mRunning your submission against local test cases...\u001b[39m\u001b[38;5;130;01m\\n\u001b[39;00m\u001b[38;5;124m\"\u001b[39m)\n\u001b[1;32m--> 530\u001b[0m     results \u001b[38;5;241m=\u001b[39m grade_zip_file(zip_path, nb_path, \u001b[38;5;28mself\u001b[39m\u001b[38;5;241m.\u001b[39m_tests_dir)\n\u001b[0;32m    531\u001b[0m     \u001b[38;5;28mprint\u001b[39m(\n\u001b[0;32m    532\u001b[0m         \u001b[38;5;124m\"\u001b[39m\u001b[38;5;124mYour submission received the following results when run against \u001b[39m\u001b[38;5;124m\"\u001b[39m\n\u001b[0;32m    533\u001b[0m         \u001b[38;5;241m+\u001b[39m \u001b[38;5;124m\"\u001b[39m\u001b[38;5;124mavailable test cases:\u001b[39m\u001b[38;5;130;01m\\n\u001b[39;00m\u001b[38;5;130;01m\\n\u001b[39;00m\u001b[38;5;124m\"\u001b[39m\n\u001b[0;32m    534\u001b[0m         \u001b[38;5;241m+\u001b[39m indent(results\u001b[38;5;241m.\u001b[39msummary(), \u001b[38;5;124m\"\u001b[39m\u001b[38;5;124m    \u001b[39m\u001b[38;5;124m\"\u001b[39m)\n\u001b[0;32m    535\u001b[0m     )\n\u001b[0;32m    537\u001b[0m \u001b[38;5;28;01mif\u001b[39;00m display_link:\n\u001b[0;32m    538\u001b[0m     \u001b[38;5;66;03m# create and display output HTML\u001b[39;00m\n",
      "File \u001b[1;32md:\\miniconda3\\Lib\\site-packages\\otter\\check\\utils.py:118\u001b[0m, in \u001b[0;36mgrade_zip_file\u001b[1;34m(zip_path, nb_arcname, tests_dir)\u001b[0m\n\u001b[0;32m    115\u001b[0m         warnings\u001b[38;5;241m.\u001b[39mwarn(results\u001b[38;5;241m.\u001b[39mstderr\u001b[38;5;241m.\u001b[39mdecode(\u001b[38;5;124m\"\u001b[39m\u001b[38;5;124mutf-8\u001b[39m\u001b[38;5;124m\"\u001b[39m), \u001b[38;5;167;01mRuntimeWarning\u001b[39;00m)\n\u001b[0;32m    117\u001b[0m     \u001b[38;5;28;01mwith\u001b[39;00m \u001b[38;5;28mopen\u001b[39m(results_path, \u001b[38;5;124m\"\u001b[39m\u001b[38;5;124mrb\u001b[39m\u001b[38;5;124m\"\u001b[39m) \u001b[38;5;28;01mas\u001b[39;00m f:\n\u001b[1;32m--> 118\u001b[0m         results \u001b[38;5;241m=\u001b[39m dill\u001b[38;5;241m.\u001b[39mload(f)\n\u001b[0;32m    120\u001b[0m     \u001b[38;5;28;01mreturn\u001b[39;00m results\n\u001b[0;32m    122\u001b[0m \u001b[38;5;28;01mfinally\u001b[39;00m:\n",
      "File \u001b[1;32md:\\miniconda3\\Lib\\site-packages\\dill\\_dill.py:289\u001b[0m, in \u001b[0;36mload\u001b[1;34m(file, ignore, **kwds)\u001b[0m\n\u001b[0;32m    283\u001b[0m \u001b[38;5;28;01mdef\u001b[39;00m\u001b[38;5;250m \u001b[39m\u001b[38;5;21mload\u001b[39m(file, ignore\u001b[38;5;241m=\u001b[39m\u001b[38;5;28;01mNone\u001b[39;00m, \u001b[38;5;241m*\u001b[39m\u001b[38;5;241m*\u001b[39mkwds):\n\u001b[0;32m    284\u001b[0m \u001b[38;5;250m    \u001b[39m\u001b[38;5;124;03m\"\"\"\u001b[39;00m\n\u001b[0;32m    285\u001b[0m \u001b[38;5;124;03m    Unpickle an object from a file.\u001b[39;00m\n\u001b[0;32m    286\u001b[0m \n\u001b[0;32m    287\u001b[0m \u001b[38;5;124;03m    See :func:`loads` for keyword arguments.\u001b[39;00m\n\u001b[0;32m    288\u001b[0m \u001b[38;5;124;03m    \"\"\"\u001b[39;00m\n\u001b[1;32m--> 289\u001b[0m     \u001b[38;5;28;01mreturn\u001b[39;00m Unpickler(file, ignore\u001b[38;5;241m=\u001b[39mignore, \u001b[38;5;241m*\u001b[39m\u001b[38;5;241m*\u001b[39mkwds)\u001b[38;5;241m.\u001b[39mload()\n",
      "File \u001b[1;32md:\\miniconda3\\Lib\\site-packages\\dill\\_dill.py:444\u001b[0m, in \u001b[0;36mUnpickler.load\u001b[1;34m(self)\u001b[0m\n\u001b[0;32m    443\u001b[0m \u001b[38;5;28;01mdef\u001b[39;00m\u001b[38;5;250m \u001b[39m\u001b[38;5;21mload\u001b[39m(\u001b[38;5;28mself\u001b[39m): \u001b[38;5;66;03m#NOTE: if settings change, need to update attributes\u001b[39;00m\n\u001b[1;32m--> 444\u001b[0m     obj \u001b[38;5;241m=\u001b[39m StockUnpickler\u001b[38;5;241m.\u001b[39mload(\u001b[38;5;28mself\u001b[39m)\n\u001b[0;32m    445\u001b[0m     \u001b[38;5;28;01mif\u001b[39;00m \u001b[38;5;28mtype\u001b[39m(obj)\u001b[38;5;241m.\u001b[39m\u001b[38;5;18m__module__\u001b[39m \u001b[38;5;241m==\u001b[39m \u001b[38;5;28mgetattr\u001b[39m(_main_module, \u001b[38;5;124m'\u001b[39m\u001b[38;5;124m__name__\u001b[39m\u001b[38;5;124m'\u001b[39m, \u001b[38;5;124m'\u001b[39m\u001b[38;5;124m__main__\u001b[39m\u001b[38;5;124m'\u001b[39m):\n\u001b[0;32m    446\u001b[0m         \u001b[38;5;28;01mif\u001b[39;00m \u001b[38;5;129;01mnot\u001b[39;00m \u001b[38;5;28mself\u001b[39m\u001b[38;5;241m.\u001b[39m_ignore:\n\u001b[0;32m    447\u001b[0m             \u001b[38;5;66;03m# point obj class to main\u001b[39;00m\n",
      "\u001b[1;31mEOFError\u001b[0m: Ran out of input"
     ]
    }
   ],
   "source": [
    "grader.export(pdf=False, force_save=True, run_tests=True)"
   ]
  },
  {
   "cell_type": "markdown",
   "metadata": {},
   "source": [
    " "
   ]
  }
 ],
 "metadata": {
  "kernelspec": {
   "display_name": "base",
   "language": "python",
   "name": "python3"
  },
  "language_info": {
   "codemirror_mode": {
    "name": "ipython",
    "version": 3
   },
   "file_extension": ".py",
   "mimetype": "text/x-python",
   "name": "python",
   "nbconvert_exporter": "python",
   "pygments_lexer": "ipython3",
   "version": "3.12.2"
  },
  "otter": {
   "OK_FORMAT": false,
   "assignment_name": "dfs-edge-classification",
   "tests": {
    "q1": "from otter.test_files import test_case\n\nOK_FORMAT = False\n\nname = \"q1\"\npoints = 2\n\n@test_case(points=None, hidden=False)\ndef test_q1_1(dfs_path, nx, tqdm, np, generate_adj_list, rng_seed):\n    rng = np.random.default_rng(rng_seed)\n    import signal\n\n    def timeout_handler(num, stack):\n        raise Exception('Your solution timed out.')\n    if hasattr(signal, 'SIGALRM') and hasattr(signal, 'alarm'):\n        signal.signal(signal.SIGALRM, timeout_handler)\n        signal.alarm(30)\n    try:\n        for n in tqdm.tqdm(range(20, 1001, 20)):\n            p = np.log(n) / n\n            random_graph = nx.gnp_random_graph(n, p, seed=rng_seed + n, directed=True)\n            adj_list_graph = generate_adj_list(n, random_graph.edges)\n            s = rng.integers(n)\n            t = rng.integers(n)\n            nxall = nx\n\n            def error(*args, **kwargs):\n                nx = nxall\n                raise Exception('You may not call any graph libraries, modules, or functions.')\n            nx = error\n            try:\n                path = dfs_path(adj_list_graph, s, t)\n            finally:\n                nx = nxall\n            if not nx.has_path(random_graph, s, t):\n                assert len(path) == 0, f\"your dfs_path found an s-t path when there isn't one.\"\n            else:\n                assert nx.is_simple_path(random_graph, path), f'your dfs_path did not return a valid simple path'\n                assert path[0] == s, f'your dfs_path returned a valid simple path, but it does not start at node s'\n                assert path[-1] == t, f'your dfs_path returned a valid simple path, but it does not end at node t'\n    finally:\n        if hasattr(signal, 'SIGALRM') and hasattr(signal, 'alarm'):\n            signal.alarm(0)\n\n",
    "q2": "from otter.test_files import test_case\n\nOK_FORMAT = False\n\nname = \"q2\"\npoints = 2\n\n@test_case(points=None, hidden=False)\ndef test_q1_2(get_pre_post, inputs, outputs, tqdm, nx, np, generate_adj_list, rng_seed):\n    import signal\n\n    def timeout_handler(num, stack):\n        raise Exception('Your solution timed out.')\n    if hasattr(signal, 'SIGALRM') and hasattr(signal, 'alarm'):\n        signal.signal(signal.SIGALRM, timeout_handler)\n        signal.alarm(30)\n    try:\n        for i in tqdm.tqdm(range(len(inputs['q2']))):\n            input_adjlist = inputs['q2'][i]\n            n = len(input_adjlist)\n            nxall = nx\n\n            def error(*args, **kwargs):\n                nx = nxall\n                raise Exception('You may not call any graph libraries, modules, or functions.')\n            nx = error\n            try:\n                (preStudent, postStudent) = get_pre_post(input_adjlist)\n            finally:\n                nx = nxall\n            assert len(preStudent) == len(postStudent) == n, 'pre and post arrays should both have length n'\n            for j in range(n - 1):\n                assert preStudent[j][1] < preStudent[j + 1][1], 'pre order values should be in increasing order'\n                assert postStudent[j][1] < postStudent[j + 1][1], 'post order values should be in increasing order'\n            (expectedPre, expectedPost) = outputs['q2'][i]\n            assert len(expectedPre) == len(preStudent) and len(expectedPost) == len(postStudent), 'make sure to set pre and post for each node'\n            for j in range(len(expectedPre)):\n                assert len(preStudent[j]) == 2, 'Make sure each value is (node, pre/post order)'\n                assert preStudent[j] == expectedPre[j], f'wrong preorder value for node {preStudent[j][0]}'\n            for j in range(len(expectedPost)):\n                assert len(postStudent[j]) == 2, 'Make sure each value is (node, pre/post order)'\n                assert postStudent[j] == expectedPost[j], f'wrong preorder value for node {postStudent[j][0]}'\n    finally:\n        if hasattr(signal, 'SIGALRM') and hasattr(signal, 'alarm'):\n            signal.alarm(0)\n\n",
    "q3": "from otter.test_files import test_case\n\nOK_FORMAT = False\n\nname = \"q3\"\npoints = 2\n\n@test_case(points=None, hidden=False)\ndef test_q3(categorize_edges, inputs, outputs, tqdm):\n    for i in tqdm.tqdm(range(0, 100)):\n        expected_edge_dict = outputs['q3'][i]\n        edge_dict = categorize_edges(inputs['q3'][i])\n        for edge_type in expected_edge_dict:\n            assert expected_edge_dict[edge_type] == edge_dict[edge_type], f'returned wrong set of {edge_type} edges'\n\n"
   }
  }
 },
 "nbformat": 4,
 "nbformat_minor": 4
}
